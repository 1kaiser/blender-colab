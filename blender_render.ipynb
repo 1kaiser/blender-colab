{
  "cells": [
    {
      "cell_type": "code",
      "source": [
        "#connect to google drive\n",
        "!pip install gshell\n",
        "!gshell init"
      ],
      "metadata": {
        "id": "lbxWP0yElhfw"
      },
      "execution_count": null,
      "outputs": []
    },
    {
      "cell_type": "markdown",
      "metadata": {
        "id": "6EYxUEsyGlkw"
      },
      "source": [
        "# Setup\n",
        "**Make sure to read the instructions carefully!**\n",
        "\n",
        "If you have other resources used in the Blender project and chose to *make all paths relative*, pack all of them into a zip archive. Alternatively, you can *pack all external file*.\n",
        "\n",
        "* `blender_version` : Version of blender used to render the scene.\n",
        "* `blend_file_path` : Path to the blend file after unpacking the zip archive. If blend file is used, this is automatically ignored.\n",
        "___\n",
        "* `upload_type` : Select the type of upload method. `gdrive_relative` pulls everything from the folder specified.\n",
        "* `drive_path` : Path to your blend/zip file relative to the root of your Google Drive if `google_drive` is selected. Must  state the file and its extension (.zip/.blend) **unless** `gdrive_relative` is selected.\n",
        "* `url_blend` : Specify the URL to the blend/zip file if `url` is selected.\n",
        "___\n",
        "* `animation` : Specify whether animation or still image is rendered. If **still image** is used, put the frame number in `start_frame`.\n",
        "* `start_frame, end_frame` : Specify the start and end frame for animation. You may put same value such as zero for both input to set the default frame in the blend file.\n",
        "___\n",
        "* `download_type` : Select the type of download method. `gdrive_direct` enables the frames to be outputted directly to Google Drive (zipping will be disabled).\n",
        "* `output_name` : Name of the output frames, **do NOT include .blend!** (## for frame number)\n",
        "* `zip_files` : Archive multiple animation frames automatically into a zip file.\n",
        "* `drive_output_path` : Path to your frames/zip file in Google Drive.\n",
        "___\n",
        "* `gpu_enabled, cpu_enabled` : Toggle GPU and CPU for rendering. CPU might give a slight boost in rendering time but may varies depend on the project.\n",
        "\n",
        "After you are done, go to Runtime > Run All (Ctrl + F9) and upload your files or have Google Drive authorised below. See the [GitHub repo](https://github.com/syn73/blender-colab) for more info."
      ]
    },
    {
      "cell_type": "code",
      "source": [
        "blender_version = '3.0.1' #@param ['2.79b', '2.80rc3', '2.81a', '2.82a', '2.83.18', '2.90.1', '2.91.2', '2.92.0', '2.93.6', '3.0.0', '3.0.1'] {allow-input: false}\n",
        "# from google drive folder url https://drive.google.com/file/d/14rU-w4UwEkRoslf6zGqFceu5ade7AU_O/view?usp=sharing \n",
        "# use 14rU-w4UwEkRoslf6zGqFceu5ade7AU_O as id\n",
        "blend_file_id = '14rU-w4UwEkRoslf6zGqFceu5ade7AU_O' #@param {type: 'string'}\n",
        "start_frame =  2#@param {type: 'integer'}\n",
        "end_frame =  4#@param {type: 'integer'}\n",
        "# from google drive folder url https://drive.google.com/drive/u/0/folders/1ph2v7i3Qm8U6KVPh1DEJ1UCXRKVMYEY0  \n",
        "# use 1ph2v7i3Qm8U6KVPh1DEJ1UCXRKVMYEY0 as id\n",
        "output_directory_id = '1ph2v7i3Qm8U6KVPh1DEJ1UCXRKVMYEY0' #@param ['xxxxxxxxxxxxxxxxxxxxxxxxxxxxxxxx'] {allow-input: true}\n",
        "#@markdown ---\n",
        "gpu_enabled = False #@param {type:\"boolean\"}\n",
        "cpu_enabled = True #@param {type:\"boolean\"}\n",
        "#@markdown ---\n",
        "blend_file_path = '/content/particles.blend' #@param {type: 'string'}\n",
        "temp_output_path = '/content/out' #@param {type: 'string'}\n",
        "output_name = 'blender-####' #@param {type: 'string'}\n"
      ],
      "metadata": {
        "id": "Ar8XrDPPoUe6"
      },
      "execution_count": null,
      "outputs": []
    },
    {
      "cell_type": "code",
      "execution_count": null,
      "metadata": {
        "id": "GPJ9fmoB6PWM"
      },
      "outputs": [],
      "source": [
        "import os\n",
        "blender_url_dict = {'2.79b'   : \"https://ftp.nluug.nl/pub/graphics/blender/release/Blender2.79/blender-2.79b-linux-glibc219-x86_64.tar.bz2\",\n",
        "                    '2.80rc3' : \"https://ftp.nluug.nl/pub/graphics/blender/release/Blender2.80/blender-2.80rc3-linux-glibc217-x86_64.tar.bz2\",\n",
        "                    '2.81a'   : \"https://ftp.nluug.nl/pub/graphics/blender/release/Blender2.81/blender-2.81a-linux-glibc217-x86_64.tar.bz2\",\n",
        "                    '2.82a'   : \"https://ftp.nluug.nl/pub/graphics/blender/release/Blender2.82/blender-2.82a-linux64.tar.xz\",\n",
        "                    '2.83.18' : \"https://ftp.nluug.nl/pub/graphics/blender/release/Blender2.83/blender-2.83.18-linux-x64.tar.xz\",\n",
        "                    '2.90.1'  : \"https://ftp.nluug.nl/pub/graphics/blender/release/Blender2.90/blender-2.90.1-linux64.tar.xz\",\n",
        "                    '2.91.2'  : \"https://ftp.nluug.nl/pub/graphics/blender/release/Blender2.91/blender-2.91.2-linux64.tar.xz\",\n",
        "                    '2.92.0'  : \"https://ftp.nluug.nl/pub/graphics/blender/release/Blender2.92/blender-2.92.0-linux64.tar.xz\",\n",
        "                    '2.93.6'  : \"https://ftp.nluug.nl/pub/graphics/blender/release/Blender2.93/blender-2.93.6-linux-x64.tar.xz\",\n",
        "                    '3.0.0'   : \"https://ftp.nluug.nl/pub/graphics/blender/release/Blender3.0/blender-3.0.0-linux-x64.tar.xz\",\n",
        "                    '3.0.1'   : \"https://ftp.nluug.nl/pub/graphics/blender/release/Blender3.0/blender-3.0.1-linux-x64.tar.xz\"}\n",
        "\n",
        "blender_url = blender_url_dict[blender_version]\n",
        "base_url = os.path.basename(blender_url)\n",
        "\n",
        "!mkdir $blender_version\n",
        "!wget -nc $blender_url\n",
        "!tar -xkf $base_url -C ./$blender_version --strip-components=1"
      ]
    },
    {
      "cell_type": "code",
      "execution_count": null,
      "metadata": {
        "id": "6elYiQrvkUAe"
      },
      "outputs": [],
      "source": [
        "# Enable GPU rendering (or add custom properties here)\n",
        "data = \"import re\\n\"+\\\n",
        "    \"import bpy\\n\"+\\\n",
        "    \"scene = bpy.context.scene\\n\"+\\\n",
        "    \"scene.cycles.device = 'GPU'\\n\"+\\\n",
        "    \"prefs = bpy.context.preferences\\n\"+\\\n",
        "    \"prefs.addons['cycles'].preferences.get_devices()\\n\"+\\\n",
        "    \"cprefs = prefs.addons['cycles'].preferences\\n\"+\\\n",
        "    \"print(cprefs)\\n\"+\\\n",
        "    \"for compute_device_type in ('CUDA', 'OPENCL', 'NONE'):\\n\"+\\\n",
        "    \"    try:\\n\"+\\\n",
        "    \"        cprefs.compute_device_type = compute_device_type\\n\"+\\\n",
        "    \"        print('Device found:',compute_device_type)\\n\"+\\\n",
        "    \"        break\\n\"+\\\n",
        "    \"    except TypeError:\\n\"+\\\n",
        "    \"        pass\\n\"+\\\n",
        "    \"for device in cprefs.devices:\\n\"+\\\n",
        "    \"    if not re.match('intel', device.name, re.I):\\n\"+\\\n",
        "    \"        print('Activating',device)\\n\"+\\\n",
        "    \"        device.use = \"+str(gpu_enabled)+\"\\n\"+\\\n",
        "    \"    else:\\n\"+\\\n",
        "    \"        device.use = \"+str(cpu_enabled)+\"\\n\"\n",
        "with open('setgpu.py', 'w') as f:\n",
        "    f.write(data)"
      ]
    },
    {
      "cell_type": "code",
      "source": [
        "!nvidia-smi"
      ],
      "metadata": {
        "id": "8S1IKkiY6nB3"
      },
      "execution_count": null,
      "outputs": []
    },
    {
      "cell_type": "markdown",
      "source": [
        "```\n",
        "#set working directory\n",
        "!gshell cd --with-id '{output_directory_id}'\n",
        "#make temp output directory\n",
        "!mkdir -p '{temp_output_path}'\n",
        "#blend file downloaad from google drive\n",
        "!gshell download -i '{blend_file_id}'\n",
        "\n",
        "if not temp_output_path.endswith('/'):\n",
        "    temp_output_path += '/'\n",
        "# concatenating /content/out + blender-#### >>  /content/out/blender-#### to be used in blender output\n",
        "output_path = temp_output_path + output_name\n",
        "#as if frames 1 to frame 250 or frame 400 or frame xxx\n",
        "framelist = range(start_frame, end_frame+1)\n",
        "#initiating as previously processed files in directory as none (not exactly) as  later while using \"gshell ls\" would put out list of files as ['a.txt','b.txt',...] then doing len(files) as finding length would give no of files, which is to keep count of files processed and uploaded\n",
        "nooffiles=''\n",
        "\n",
        "#for generating each frame and uploading them frames are to be formatted as blender-0001.png, blender-0002.png, ...\n",
        "for index in framelist:  \n",
        "  nooffiles = !gshell ls\n",
        "  index = len(nooffiles) + index\n",
        "  !sudo ./$blender_version/blender -b 'render/{blend_file_path}' -P setgpu.py -E CYCLES -o '{output_path}' -noaudio -f $index\n",
        "  #uploading to destination from source\n",
        "  !gshell upload --parent '{output_directory_id}' --recursive '{temp_output_path}'/*\n",
        "  #emptying source (temporary directory)\n",
        "  !rm -r '{temp_output_path}'/*\n",
        "```\n"
      ],
      "metadata": {
        "id": "65TfYRdw6nQT"
      }
    },
    {
      "cell_type": "code",
      "source": [
        "!gshell cd --with-id '{output_directory_id}'\n",
        "!mkdir -p '{temp_output_path}'\n",
        "!gshell download -i '{blend_file_id}'\n",
        "\n",
        "if not temp_output_path.endswith('/'):\n",
        "    temp_output_path += '/'\n",
        "    \n",
        "output_path = temp_output_path + output_name\n",
        "\n",
        "framelist = range(start_frame, end_frame+1)\n",
        "nooffiles=''\n",
        "\n",
        "for index in framelist:  \n",
        "  nooffiles = !gshell ls\n",
        "  index = len(nooffiles) + index\n",
        "  !sudo ./$blender_version/blender -b '{blend_file_path}' -P setgpu.py -E CYCLES -o '{output_path}' -noaudio -f $index\n",
        "  !gshell upload --parent '{output_directory_id}' --recursive '{temp_output_path}'/*\n",
        "  !rm -r '{temp_output_path}'/*"
      ],
      "metadata": {
        "id": "ZMeso4XGw6Yz"
      },
      "execution_count": null,
      "outputs": []
    },
    {
      "cell_type": "markdown",
      "source": [
        "# ***EXIT SECTION***"
      ],
      "metadata": {
        "id": "P7-VNz9B9ryu"
      }
    },
    {
      "cell_type": "markdown",
      "metadata": {
        "id": "IeNhVz4Uds_7"
      },
      "source": [
        "## Disclaimer\n",
        "The GPU used in Google Colab is specialized for data centres, neural network etc, not rendering 3D scenes. Because the computing power provided are free, the usage limits, idle timeouts and speed of the rendering may varies. [ColabPro](https://colab.research.google.com/signup) is available for those who wanted to have more powerful GPU and longer session for rendering. See the [FAQ](https://research.google.com/colaboratory/faq.html) for more info about this platform. In some cases, it might be faster to use an online Blender renderfarm.\n",
        "\n",
        "## License\n",
        "```\n",
        "MIT License\n",
        "\n",
        "Copyright (c) 2020 syn73\n",
        "\n",
        "Permission is hereby granted, free of charge, to any person obtaining a copy\n",
        "of this software and associated documentation files (the \"Software\"), to deal\n",
        "in the Software without restriction, including without limitation the rights\n",
        "to use, copy, modify, merge, publish, distribute, sublicense, and/or sell\n",
        "copies of the Software, and to permit persons to whom the Software is\n",
        "furnished to do so, subject to the following conditions:\n",
        "\n",
        "The above copyright notice and this permission notice shall be included in all\n",
        "copies or substantial portions of the Software.\n",
        "\n",
        "THE SOFTWARE IS PROVIDED \"AS IS\", WITHOUT WARRANTY OF ANY KIND, EXPRESS OR\n",
        "IMPLIED, INCLUDING BUT NOT LIMITED TO THE WARRANTIES OF MERCHANTABILITY,\n",
        "FITNESS FOR A PARTICULAR PURPOSE AND NONINFRINGEMENT. IN NO EVENT SHALL THE\n",
        "AUTHORS OR COPYRIGHT HOLDERS BE LIABLE FOR ANY CLAIM, DAMAGES OR OTHER\n",
        "LIABILITY, WHETHER IN AN ACTION OF CONTRACT, TORT OR OTHERWISE, ARISING FROM,\n",
        "OUT OF OR IN CONNECTION WITH THE SOFTWARE OR THE USE OR OTHER DEALINGS IN THE\n",
        "SOFTWARE.\n",
        "```"
      ]
    }
  ],
  "metadata": {
    "colab": {
      "collapsed_sections": [],
      "name": "blender-render.ipynb",
      "provenance": []
    },
    "kernelspec": {
      "display_name": "Python 3",
      "language": "python",
      "name": "python3"
    },
    "language_info": {
      "codemirror_mode": {
        "name": "ipython",
        "version": 3
      },
      "file_extension": ".py",
      "mimetype": "text/x-python",
      "name": "python",
      "nbconvert_exporter": "python",
      "pygments_lexer": "ipython3",
      "version": "3.7.4"
    }
  },
  "nbformat": 4,
  "nbformat_minor": 0
}