{
  "cells": [
    {
      "cell_type": "code",
      "source": [
        "from google.colab import drive\n",
        "drive.mount('/content/gdrive')"
      ],
      "metadata": {
        "colab": {
          "base_uri": "https://localhost:8080/"
        },
        "id": "hFKA6ISKd8R2",
        "outputId": "ce5493e7-35c6-45db-85d8-3122f53628b3"
      },
      "execution_count": 1,
      "outputs": [
        {
          "output_type": "stream",
          "name": "stdout",
          "text": [
            "Mounted at /content/gdrive\n"
          ]
        }
      ]
    },
    {
      "cell_type": "markdown",
      "metadata": {
        "id": "6EYxUEsyGlkw"
      },
      "source": [
        "# Setup\n",
        "**Make sure to read the instructions carefully!**\n",
        "\n",
        "If you have other resources used in the Blender project and chose to *make all paths relative*, pack all of them into a zip archive. Alternatively, you can *pack all external file*.\n",
        "\n",
        "* `blender_version` : Version of blender used to render the scene.\n",
        "* `blend_file_path` : Path to the blend file after unpacking the zip archive. If blend file is used, this is automatically ignored.\n",
        "___\n",
        "* `upload_type` : Select the type of upload method. `gdrive_relative` pulls everything from the folder specified.\n",
        "* `drive_path` : Path to your blend/zip file relative to the root of your Google Drive if `google_drive` is selected. Must  state the file and its extension (.zip/.blend) **unless** `gdrive_relative` is selected.\n",
        "* `url_blend` : Specify the URL to the blend/zip file if `url` is selected.\n",
        "___\n",
        "* `animation` : Specify whether animation or still image is rendered. If **still image** is used, put the frame number in `start_frame`.\n",
        "* `start_frame, end_frame` : Specify the start and end frame for animation. You may put same value such as zero for both input to set the default frame in the blend file.\n",
        "___\n",
        "* `download_type` : Select the type of download method. `gdrive_direct` enables the frames to be outputted directly to Google Drive (zipping will be disabled).\n",
        "* `output_name` : Name of the output frames, **do NOT include .blend!** (## for frame number)\n",
        "* `zip_files` : Archive multiple animation frames automatically into a zip file.\n",
        "* `drive_output_path` : Path to your frames/zip file in Google Drive.\n",
        "___\n",
        "* `gpu_enabled, cpu_enabled` : Toggle GPU and CPU for rendering. CPU might give a slight boost in rendering time but may varies depend on the project.\n",
        "\n",
        "After you are done, go to Runtime > Run All (Ctrl + F9) and upload your files or have Google Drive authorised below. See the [GitHub repo](https://github.com/syn73/blender-colab) for more info."
      ]
    },
    {
      "cell_type": "code",
      "execution_count": 2,
      "metadata": {
        "id": "8dFNjYGTgNjR"
      },
      "outputs": [],
      "source": [
        "blender_version = '3.0.0' #@param ['2.79b', '2.80rc3', '2.81a', '2.82a', '2.83.18', '2.90.1', '2.91.2', '2.92.0', '2.93.6', '3.0.0'] {allow-input: false}\n",
        "blend_file_path = '/content/particles.blend' #@param {type: 'string'}\n",
        "#@markdown ---\n",
        "upload_type = 'google_drive' #@param ['direct', 'google_drive', 'url', 'gdrive_relative'] {allow-input: false}\n",
        "drive_path = '/PRINT/video/particles.blend' #@param {type: 'string'}\n",
        "url_blend = '' #@param {type: 'string'}\n",
        "#@markdown ---\n",
        "animation = False #@param {type: 'boolean'}\n",
        "start_frame =  125#@param {type: 'integer'}\n",
        "end_frame =  125#@param {type: 'integer'}\n",
        "#@markdown ---\n",
        "download_type = 'direct' #@param ['direct', 'google_drive', 'gdrive_direct'] {allow-input: false}\n",
        "output_name = 'blender-####' #@param {type: 'string'}\n",
        "zip_files = True #@param {type: 'boolean'}\n",
        "drive_output_path = '/PRINT/video/blender/output' #@param {type: 'string'}\n",
        "#@markdown ---\n",
        "gpu_enabled = True #@param {type:\"boolean\"}\n",
        "cpu_enabled = False #@param {type:\"boolean\"}"
      ]
    },
    {
      "cell_type": "code",
      "execution_count": 3,
      "metadata": {
        "id": "QRzNmiHN8Xr0"
      },
      "outputs": [],
      "source": [
        "import os\n",
        "import shutil\n",
        "from google.colab import files, drive\n",
        "uploaded_filename = \"\"\n",
        "\n",
        "\n",
        "\n",
        "if upload_type == 'direct':\n",
        "    uploaded = files.upload()\n",
        "    for fn in uploaded.keys():\n",
        "        uploaded_filename = fn\n",
        "elif upload_type == 'google_drive':\n",
        "    shutil.copy('/content/gdrive/MyDrive/' + drive_path, '.')\n",
        "    uploaded_filename = os.path.basename(drive_path)"
      ]
    },
    {
      "cell_type": "code",
      "execution_count": 4,
      "metadata": {
        "id": "KowqWtLzgSLw",
        "outputId": "43d514b7-faf0-42fa-fa7f-92c65c3e19c1",
        "colab": {
          "base_uri": "https://localhost:8080/"
        }
      },
      "outputs": [
        {
          "output_type": "stream",
          "name": "stdout",
          "text": [
            "rm: cannot remove 'render': No such file or directory\n"
          ]
        }
      ],
      "source": [
        "!rm -r render\n",
        "!mkdir render\n",
        "\n",
        "if uploaded_filename.lower().endswith('.zip'):\n",
        "    !unzip -o $uploaded_filename -d 'render/'\n",
        "elif uploaded_filename.lower().endswith('.blend'):\n",
        "    shutil.copy(uploaded_filename, 'render/')\n",
        "    blend_file_path = uploaded_filename\n",
        "else:\n",
        "    raise SystemExit(\"Invalid file extension, only .blend can be uploaded.\")"
      ]
    },
    {
      "cell_type": "code",
      "execution_count": 5,
      "metadata": {
        "colab": {
          "base_uri": "https://localhost:8080/"
        },
        "id": "GPJ9fmoB6PWM",
        "outputId": "12291421-21cf-4e79-b10a-b8a08cc267ec"
      },
      "outputs": [
        {
          "output_type": "stream",
          "name": "stdout",
          "text": [
            "--2022-02-19 13:39:31--  https://ftp.nluug.nl/pub/graphics/blender/release/Blender3.0/blender-3.0.0-linux-x64.tar.xz\n",
            "Resolving ftp.nluug.nl (ftp.nluug.nl)... 145.220.21.40, 2001:67c:6ec:221:145:220:21:40\n",
            "Connecting to ftp.nluug.nl (ftp.nluug.nl)|145.220.21.40|:443... connected.\n",
            "HTTP request sent, awaiting response... 200 OK\n",
            "Length: 185915252 (177M) [application/x-tar]\n",
            "Saving to: ‘blender-3.0.0-linux-x64.tar.xz’\n",
            "\n",
            "blender-3.0.0-linux 100%[===================>] 177.30M  6.30MB/s    in 38s     \n",
            "\n",
            "2022-02-19 13:40:09 (4.64 MB/s) - ‘blender-3.0.0-linux-x64.tar.xz’ saved [185915252/185915252]\n",
            "\n"
          ]
        }
      ],
      "source": [
        "blender_url_dict = {'2.79b'   : \"https://ftp.nluug.nl/pub/graphics/blender/release/Blender2.79/blender-2.79b-linux-glibc219-x86_64.tar.bz2\",\n",
        "                    '2.80rc3' : \"https://ftp.nluug.nl/pub/graphics/blender/release/Blender2.80/blender-2.80rc3-linux-glibc217-x86_64.tar.bz2\",\n",
        "                    '2.81a'   : \"https://ftp.nluug.nl/pub/graphics/blender/release/Blender2.81/blender-2.81a-linux-glibc217-x86_64.tar.bz2\",\n",
        "                    '2.82a'   : \"https://ftp.nluug.nl/pub/graphics/blender/release/Blender2.82/blender-2.82a-linux64.tar.xz\",\n",
        "                    '2.83.18' : \"https://ftp.nluug.nl/pub/graphics/blender/release/Blender2.83/blender-2.83.18-linux-x64.tar.xz\",\n",
        "                    '2.90.1'  : \"https://ftp.nluug.nl/pub/graphics/blender/release/Blender2.90/blender-2.90.1-linux64.tar.xz\",\n",
        "                    '2.91.2'  : \"https://ftp.nluug.nl/pub/graphics/blender/release/Blender2.91/blender-2.91.2-linux64.tar.xz\",\n",
        "                    '2.92.0'  : \"https://ftp.nluug.nl/pub/graphics/blender/release/Blender2.92/blender-2.92.0-linux64.tar.xz\",\n",
        "                    '2.93.6'  : \"https://ftp.nluug.nl/pub/graphics/blender/release/Blender2.93/blender-2.93.6-linux-x64.tar.xz\",\n",
        "                    '3.0.0'   : \"https://ftp.nluug.nl/pub/graphics/blender/release/Blender3.0/blender-3.0.0-linux-x64.tar.xz\"}\n",
        "\n",
        "blender_url = blender_url_dict[blender_version]\n",
        "base_url = os.path.basename(blender_url)\n",
        "\n",
        "!mkdir $blender_version\n",
        "!wget -nc $blender_url\n",
        "!tar -xkf $base_url -C ./$blender_version --strip-components=1"
      ]
    },
    {
      "cell_type": "code",
      "execution_count": 6,
      "metadata": {
        "id": "6elYiQrvkUAe"
      },
      "outputs": [],
      "source": [
        "# Enable GPU rendering (or add custom properties here)\n",
        "data = \"import re\\n\"+\\\n",
        "    \"import bpy\\n\"+\\\n",
        "    \"scene = bpy.context.scene\\n\"+\\\n",
        "    \"scene.cycles.device = 'GPU'\\n\"+\\\n",
        "    \"prefs = bpy.context.preferences\\n\"+\\\n",
        "    \"prefs.addons['cycles'].preferences.get_devices()\\n\"+\\\n",
        "    \"cprefs = prefs.addons['cycles'].preferences\\n\"+\\\n",
        "    \"print(cprefs)\\n\"+\\\n",
        "    \"for compute_device_type in ('CUDA', 'OPENCL', 'NONE'):\\n\"+\\\n",
        "    \"    try:\\n\"+\\\n",
        "    \"        cprefs.compute_device_type = compute_device_type\\n\"+\\\n",
        "    \"        print('Device found:',compute_device_type)\\n\"+\\\n",
        "    \"        break\\n\"+\\\n",
        "    \"    except TypeError:\\n\"+\\\n",
        "    \"        pass\\n\"+\\\n",
        "    \"for device in cprefs.devices:\\n\"+\\\n",
        "    \"    if not re.match('intel', device.name, re.I):\\n\"+\\\n",
        "    \"        print('Activating',device)\\n\"+\\\n",
        "    \"        device.use = \"+str(gpu_enabled)+\"\\n\"+\\\n",
        "    \"    else:\\n\"+\\\n",
        "    \"        device.use = \"+str(cpu_enabled)+\"\\n\"\n",
        "with open('setgpu.py', 'w') as f:\n",
        "    f.write(data)"
      ]
    },
    {
      "cell_type": "code",
      "source": [
        "!nvidia-smi"
      ],
      "metadata": {
        "id": "8S1IKkiY6nB3",
        "outputId": "795c1655-ddaf-40db-ae58-64d1102b7d41",
        "colab": {
          "base_uri": "https://localhost:8080/"
        }
      },
      "execution_count": 7,
      "outputs": [
        {
          "output_type": "stream",
          "name": "stdout",
          "text": [
            "Sat Feb 19 13:40:29 2022       \n",
            "+-----------------------------------------------------------------------------+\n",
            "| NVIDIA-SMI 460.32.03    Driver Version: 460.32.03    CUDA Version: 11.2     |\n",
            "|-------------------------------+----------------------+----------------------+\n",
            "| GPU  Name        Persistence-M| Bus-Id        Disp.A | Volatile Uncorr. ECC |\n",
            "| Fan  Temp  Perf  Pwr:Usage/Cap|         Memory-Usage | GPU-Util  Compute M. |\n",
            "|                               |                      |               MIG M. |\n",
            "|===============================+======================+======================|\n",
            "|   0  Tesla K80           Off  | 00000000:00:04.0 Off |                    0 |\n",
            "| N/A   34C    P8    28W / 149W |      0MiB / 11441MiB |      0%      Default |\n",
            "|                               |                      |                  N/A |\n",
            "+-------------------------------+----------------------+----------------------+\n",
            "                                                                               \n",
            "+-----------------------------------------------------------------------------+\n",
            "| Processes:                                                                  |\n",
            "|  GPU   GI   CI        PID   Type   Process name                  GPU Memory |\n",
            "|        ID   ID                                                   Usage      |\n",
            "|=============================================================================|\n",
            "|  No running processes found                                                 |\n",
            "+-----------------------------------------------------------------------------+\n"
          ]
        }
      ]
    },
    {
      "cell_type": "code",
      "execution_count": 8,
      "metadata": {
        "colab": {
          "base_uri": "https://localhost:8080/"
        },
        "id": "Fpk2w3yM8XqQ",
        "outputId": "eca27db1-db53-4d18-cf44-39deb8682d8d"
      },
      "outputs": [
        {
          "output_type": "stream",
          "name": "stdout",
          "text": [
            "rm: cannot remove 'output': No such file or directory\n",
            "Blender 3.0.0 (hash f1cca3055776 built 2021-12-03 00:34:54)\n",
            "Read blend: /content/render/particles.blend\n",
            "add_node_handle_relation(Armature Modifier) - Could not find op_from (ComponentKey(OBPlane.003, EVAL_POSE))\n",
            "add_node_handle_relation(Armature Modifier) - Could not find op_from (ComponentKey(OBPlane.003, EVAL_POSE))\n",
            "add_node_handle_relation(Armature Modifier) - Could not find op_from (ComponentKey(OBPlane.003, EVAL_POSE))\n",
            "add_node_handle_relation(Armature Modifier) - Could not find op_from (ComponentKey(OBPlane.003, EVAL_POSE))\n",
            "<bpy_struct, CyclesPreferences at 0x7f69875f6ca8>\n",
            "Device found: CUDA\n",
            "Activating <bpy_struct, CyclesDeviceSettings(\"Tesla K80\") at 0x7f69878aed88>\n",
            "add_node_handle_relation(Armature Modifier) - Could not find op_from (ComponentKey(OBPlane.003, EVAL_POSE))\n",
            "add_node_handle_relation(Armature Modifier) - Could not find op_from (ComponentKey(OBPlane.003, EVAL_POSE))\n",
            "add_node_handle_relation(Armature Modifier) - Could not find op_from (ComponentKey(OBPlane.003, EVAL_POSE))\n",
            "add_node_handle_relation(Armature Modifier) - Could not find op_from (ComponentKey(OBPlane.003, EVAL_POSE))\n",
            "add_node_handle_relation(Armature Modifier) - Could not find op_from (ComponentKey(OBPlane.003, EVAL_POSE))\n",
            "Fra:125 Mem:87.96M (Peak 88.15M) | Time:00:00.52 | Mem:0.00M, Peak:0.00M | Scene, ViewLayer | Synchronizing object | Plane\n",
            "Fra:125 Mem:87.96M (Peak 88.15M) | Time:00:00.52 | Mem:0.00M, Peak:0.00M | Scene, ViewLayer | Synchronizing object | Plane.003\n",
            "Fra:125 Mem:87.96M (Peak 88.15M) | Time:00:00.52 | Mem:0.00M, Peak:0.00M | Scene, ViewLayer | Synchronizing object | Plane.001\n",
            "Fra:125 Mem:87.96M (Peak 88.15M) | Time:00:00.52 | Mem:0.00M, Peak:0.00M | Scene, ViewLayer | Synchronizing object | Plane.002\n",
            "Fra:125 Mem:87.96M (Peak 88.15M) | Time:00:00.52 | Mem:0.00M, Peak:0.00M | Scene, ViewLayer | Synchronizing object | Plane.004\n",
            "Fra:125 Mem:87.96M (Peak 88.15M) | Time:00:00.52 | Mem:0.00M, Peak:0.00M | Scene, ViewLayer | Synchronizing object | Cube.002\n",
            "Fra:125 Mem:90.85M (Peak 91.22M) | Time:00:00.55 | Mem:0.00M, Peak:0.00M | Scene, ViewLayer | Synchronizing object | Cube.098\n",
            "Fra:125 Mem:92.79M (Peak 92.79M) | Time:00:00.55 | Mem:0.00M, Peak:0.00M | Scene, ViewLayer | Synchronizing object | BezierCurve.001\n",
            "Fra:125 Mem:94.24M (Peak 94.34M) | Time:00:00.55 | Mem:0.00M, Peak:0.00M | Scene, ViewLayer | Synchronizing object | Cylinder\n",
            "Fra:125 Mem:94.24M (Peak 94.61M) | Time:00:00.57 | Mem:0.00M, Peak:0.00M | Scene, ViewLayer | Initializing\n",
            "Fra:125 Mem:58.17M (Peak 94.61M) | Time:00:00.60 | Mem:0.00M, Peak:0.00M | Scene, ViewLayer | Waiting for render to start\n",
            "Fra:125 Mem:58.17M (Peak 94.61M) | Time:00:00.60 | Mem:0.00M, Peak:0.00M | Scene, ViewLayer | Loading render kernels (may take a few minutes the first time)\n",
            "Fra:125 Mem:58.17M (Peak 94.61M) | Time:00:00.64 | Mem:0.00M, Peak:0.00M | Scene, ViewLayer | Updating Scene\n",
            "Fra:125 Mem:58.17M (Peak 94.61M) | Time:00:00.64 | Mem:0.00M, Peak:0.00M | Scene, ViewLayer | Updating Shaders\n",
            "Fra:125 Mem:58.67M (Peak 94.61M) | Time:00:00.79 | Mem:0.00M, Peak:0.00M | Scene, ViewLayer | Updating Procedurals\n",
            "Fra:125 Mem:58.67M (Peak 94.61M) | Time:00:00.79 | Mem:0.00M, Peak:0.00M | Scene, ViewLayer | Updating Background\n",
            "Fra:125 Mem:58.67M (Peak 94.61M) | Time:00:00.79 | Mem:0.00M, Peak:0.00M | Scene, ViewLayer | Updating Camera\n",
            "Fra:125 Mem:58.67M (Peak 94.61M) | Time:00:00.79 | Mem:0.00M, Peak:0.00M | Scene, ViewLayer | Updating Meshes Flags\n",
            "Fra:125 Mem:58.67M (Peak 94.61M) | Time:00:00.79 | Mem:0.00M, Peak:0.00M | Scene, ViewLayer | Updating Objects\n",
            "Fra:125 Mem:58.67M (Peak 94.61M) | Time:00:00.79 | Mem:0.00M, Peak:0.00M | Scene, ViewLayer | Updating Objects | Copying Transformations to device\n",
            "Fra:125 Mem:58.85M (Peak 94.61M) | Time:00:00.79 | Mem:0.37M, Peak:0.37M | Scene, ViewLayer | Updating Objects | Applying Static Transformations\n",
            "Fra:125 Mem:58.85M (Peak 94.61M) | Time:00:00.79 | Mem:0.37M, Peak:0.37M | Scene, ViewLayer | Updating Particle Systems\n",
            "Fra:125 Mem:58.85M (Peak 94.61M) | Time:00:00.79 | Mem:0.37M, Peak:0.37M | Scene, ViewLayer | Updating Particle Systems | Copying Particles to device\n",
            "Fra:125 Mem:58.85M (Peak 94.61M) | Time:00:00.79 | Mem:0.37M, Peak:0.37M | Scene, ViewLayer | Updating Meshes\n",
            "Fra:125 Mem:60.54M (Peak 94.61M) | Time:00:00.79 | Mem:0.37M, Peak:0.37M | Scene, ViewLayer | Updating Mesh | Computing attributes\n",
            "Fra:125 Mem:61.50M (Peak 94.61M) | Time:00:00.79 | Mem:0.37M, Peak:0.37M | Scene, ViewLayer | Updating Mesh | Copying Attributes to device\n",
            "Fra:125 Mem:61.39M (Peak 94.61M) | Time:00:00.79 | Mem:1.22M, Peak:1.22M | Scene, ViewLayer | Updating Geometry BVH Cube.004 2/2 | Building BVH\n",
            "Fra:125 Mem:61.39M (Peak 94.61M) | Time:00:00.79 | Mem:1.22M, Peak:1.22M | Scene, ViewLayer | Updating Geometry BVH Cube.002 1/2 | Building BVH\n",
            "Fra:125 Mem:67.02M (Peak 94.61M) | Time:00:00.88 | Mem:1.22M, Peak:1.22M | Scene, ViewLayer | Updating Geometry BVH Cube.002 1/2 | Packing BVH triangles and strands\n",
            "Fra:125 Mem:67.21M (Peak 94.61M) | Time:00:00.88 | Mem:1.22M, Peak:1.22M | Scene, ViewLayer | Updating Geometry BVH Cube.002 1/2 | Packing BVH nodes\n",
            "Fra:125 Mem:65.71M (Peak 94.61M) | Time:00:00.88 | Mem:1.22M, Peak:1.22M | Scene, ViewLayer | Updating Geometry BVH Cube.002 1/2 | Packing BVH triangles and strands\n",
            "Fra:125 Mem:65.90M (Peak 94.61M) | Time:00:00.88 | Mem:1.22M, Peak:1.22M | Scene, ViewLayer | Updating Geometry BVH Cube.002 1/2 | Packing BVH nodes\n",
            "Fra:125 Mem:64.41M (Peak 94.61M) | Time:00:00.89 | Mem:1.22M, Peak:1.22M | Scene, ViewLayer | Updating Scene BVH | Building\n",
            "Fra:125 Mem:64.42M (Peak 94.61M) | Time:00:00.89 | Mem:1.22M, Peak:1.22M | Scene, ViewLayer | Updating Scene BVH | Building BVH\n",
            "Fra:125 Mem:65.23M (Peak 94.61M) | Time:00:00.90 | Mem:1.22M, Peak:1.22M | Scene, ViewLayer | Updating Scene BVH | Packing BVH triangles and strands\n",
            "Fra:125 Mem:65.29M (Peak 94.61M) | Time:00:00.90 | Mem:1.22M, Peak:1.22M | Scene, ViewLayer | Updating Scene BVH | Packing BVH nodes\n",
            "Fra:125 Mem:71.46M (Peak 94.61M) | Time:00:00.90 | Mem:1.22M, Peak:1.22M | Scene, ViewLayer | Updating Scene BVH | Copying BVH to device\n",
            "Fra:125 Mem:71.46M (Peak 94.61M) | Time:00:00.90 | Mem:4.74M, Peak:4.74M | Scene, ViewLayer | Updating Mesh | Computing normals\n",
            "Fra:125 Mem:80.34M (Peak 94.61M) | Time:00:00.91 | Mem:4.74M, Peak:4.74M | Scene, ViewLayer | Updating Mesh | Copying Mesh to device\n",
            "Fra:125 Mem:80.34M (Peak 94.61M) | Time:00:00.91 | Mem:13.62M, Peak:13.62M | Scene, ViewLayer | Updating Objects Flags\n",
            "Fra:125 Mem:80.34M (Peak 94.61M) | Time:00:00.91 | Mem:13.63M, Peak:13.63M | Scene, ViewLayer | Updating Images\n",
            "Fra:125 Mem:80.34M (Peak 94.61M) | Time:00:00.91 | Mem:13.63M, Peak:13.63M | Scene, ViewLayer | Updating Camera Volume\n",
            "Fra:125 Mem:80.34M (Peak 94.61M) | Time:00:00.91 | Mem:13.63M, Peak:13.63M | Scene, ViewLayer | Updating Lookup Tables\n",
            "Fra:125 Mem:80.34M (Peak 94.61M) | Time:00:00.91 | Mem:13.88M, Peak:13.88M | Scene, ViewLayer | Updating Lights\n",
            "Fra:125 Mem:80.34M (Peak 94.61M) | Time:00:00.91 | Mem:13.88M, Peak:13.88M | Scene, ViewLayer | Updating Lights | Computing distribution\n",
            "Fra:125 Mem:80.34M (Peak 94.61M) | Time:00:00.91 | Mem:13.88M, Peak:13.88M | Scene, ViewLayer | Updating Integrator\n",
            "Fra:125 Mem:80.34M (Peak 94.61M) | Time:00:00.91 | Mem:13.89M, Peak:13.89M | Scene, ViewLayer | Updating Film\n",
            "Fra:125 Mem:80.35M (Peak 94.61M) | Time:00:00.91 | Mem:13.64M, Peak:13.89M | Scene, ViewLayer | Updating Lookup Tables\n",
            "Fra:125 Mem:80.35M (Peak 94.61M) | Time:00:00.91 | Mem:13.89M, Peak:13.89M | Scene, ViewLayer | Updating Baking\n",
            "Fra:125 Mem:80.35M (Peak 94.61M) | Time:00:00.91 | Mem:13.89M, Peak:13.89M | Scene, ViewLayer | Updating Device | Writing constant memory\n",
            "Fra:125 Mem:84.38M (Peak 94.61M) | Time:00:00.92 | Mem:363.89M, Peak:363.89M | Scene, ViewLayer | Sample 0/1024\n",
            "Fra:125 Mem:116.02M (Peak 116.02M) | Time:00:01.55 | Remaining:10:37.81 | Mem:395.53M, Peak:395.53M | Scene, ViewLayer | Sample 1/1024\n",
            "Fra:125 Mem:116.02M (Peak 116.04M) | Time:00:29.00 | Remaining:06:54.25 | Mem:395.54M, Peak:395.54M | Scene, ViewLayer | Sample 65/1024\n",
            "Fra:125 Mem:116.02M (Peak 116.04M) | Time:00:35.57 | Remaining:06:48.80 | Mem:395.54M, Peak:395.54M | Scene, ViewLayer | Sample 80/1024\n",
            "Fra:125 Mem:116.02M (Peak 116.04M) | Time:00:42.57 | Remaining:06:42.57 | Mem:395.54M, Peak:395.54M | Scene, ViewLayer | Sample 96/1024\n",
            "Fra:125 Mem:116.02M (Peak 116.04M) | Time:00:49.57 | Remaining:06:36.14 | Mem:395.54M, Peak:395.54M | Scene, ViewLayer | Sample 112/1024\n",
            "Fra:125 Mem:116.02M (Peak 116.04M) | Time:00:56.58 | Remaining:06:29.56 | Mem:395.54M, Peak:395.54M | Scene, ViewLayer | Sample 128/1024\n",
            "Fra:125 Mem:116.02M (Peak 116.04M) | Time:01:03.58 | Remaining:06:22.92 | Mem:395.54M, Peak:395.54M | Scene, ViewLayer | Sample 144/1024\n",
            "Fra:125 Mem:116.02M (Peak 116.04M) | Time:01:10.60 | Remaining:06:16.23 | Mem:395.54M, Peak:395.54M | Scene, ViewLayer | Sample 160/1024\n",
            "Fra:125 Mem:116.02M (Peak 116.04M) | Time:01:17.61 | Remaining:06:09.47 | Mem:395.54M, Peak:395.54M | Scene, ViewLayer | Sample 176/1024\n",
            "Fra:125 Mem:116.02M (Peak 116.04M) | Time:01:24.61 | Remaining:06:02.64 | Mem:395.54M, Peak:395.54M | Scene, ViewLayer | Sample 192/1024\n",
            "Fra:125 Mem:116.02M (Peak 116.04M) | Time:01:31.61 | Remaining:05:55.76 | Mem:395.54M, Peak:395.54M | Scene, ViewLayer | Sample 208/1024\n",
            "Fra:125 Mem:116.02M (Peak 116.04M) | Time:01:38.60 | Remaining:05:48.84 | Mem:395.54M, Peak:395.54M | Scene, ViewLayer | Sample 224/1024\n",
            "Fra:125 Mem:116.02M (Peak 116.04M) | Time:01:45.58 | Remaining:05:41.86 | Mem:395.54M, Peak:395.54M | Scene, ViewLayer | Sample 240/1024\n",
            "Fra:125 Mem:116.02M (Peak 116.04M) | Time:01:52.55 | Remaining:05:34.87 | Mem:395.54M, Peak:395.54M | Scene, ViewLayer | Sample 256/1024\n",
            "Fra:125 Mem:116.02M (Peak 116.04M) | Time:01:59.49 | Remaining:05:27.80 | Mem:395.54M, Peak:395.54M | Scene, ViewLayer | Sample 272/1024\n",
            "Fra:125 Mem:116.02M (Peak 116.04M) | Time:02:06.42 | Remaining:05:20.70 | Mem:395.54M, Peak:395.54M | Scene, ViewLayer | Sample 288/1024\n",
            "Fra:125 Mem:116.02M (Peak 116.04M) | Time:02:13.32 | Remaining:05:13.56 | Mem:395.54M, Peak:395.54M | Scene, ViewLayer | Sample 304/1024\n",
            "Fra:125 Mem:116.02M (Peak 116.04M) | Time:02:20.19 | Remaining:05:06.39 | Mem:395.54M, Peak:395.54M | Scene, ViewLayer | Sample 320/1024\n",
            "Fra:125 Mem:116.02M (Peak 116.04M) | Time:02:27.03 | Remaining:04:59.18 | Mem:395.54M, Peak:395.54M | Scene, ViewLayer | Sample 336/1024\n",
            "Fra:125 Mem:116.02M (Peak 116.04M) | Time:02:33.84 | Remaining:04:51.93 | Mem:395.54M, Peak:395.54M | Scene, ViewLayer | Sample 352/1024\n",
            "Fra:125 Mem:116.02M (Peak 116.04M) | Time:02:40.62 | Remaining:04:44.67 | Mem:395.54M, Peak:395.54M | Scene, ViewLayer | Sample 368/1024\n",
            "Fra:125 Mem:116.02M (Peak 116.04M) | Time:02:47.34 | Remaining:04:37.36 | Mem:395.54M, Peak:395.54M | Scene, ViewLayer | Sample 384/1024\n",
            "Fra:125 Mem:116.02M (Peak 116.04M) | Time:02:54.02 | Remaining:04:30.02 | Mem:395.54M, Peak:395.54M | Scene, ViewLayer | Sample 400/1024\n",
            "Fra:125 Mem:116.02M (Peak 116.04M) | Time:03:00.64 | Remaining:04:22.66 | Mem:395.54M, Peak:395.54M | Scene, ViewLayer | Sample 416/1024\n",
            "Fra:125 Mem:116.02M (Peak 116.04M) | Time:03:07.21 | Remaining:04:15.28 | Mem:395.54M, Peak:395.54M | Scene, ViewLayer | Sample 432/1024\n",
            "Fra:125 Mem:116.02M (Peak 116.04M) | Time:03:13.72 | Remaining:04:07.88 | Mem:395.54M, Peak:395.54M | Scene, ViewLayer | Sample 448/1024\n",
            "Fra:125 Mem:116.02M (Peak 116.04M) | Time:03:20.17 | Remaining:04:00.47 | Mem:395.54M, Peak:395.54M | Scene, ViewLayer | Sample 464/1024\n",
            "Fra:125 Mem:116.02M (Peak 116.04M) | Time:03:26.55 | Remaining:03:53.04 | Mem:395.54M, Peak:395.54M | Scene, ViewLayer | Sample 480/1024\n",
            "Fra:125 Mem:116.02M (Peak 116.04M) | Time:03:32.86 | Remaining:03:45.61 | Mem:395.54M, Peak:395.54M | Scene, ViewLayer | Sample 496/1024\n",
            "Fra:125 Mem:116.02M (Peak 116.04M) | Time:03:39.10 | Remaining:03:38.17 | Mem:395.54M, Peak:395.54M | Scene, ViewLayer | Sample 512/1024\n",
            "Fra:125 Mem:116.02M (Peak 116.04M) | Time:03:45.25 | Remaining:03:30.72 | Mem:395.54M, Peak:395.54M | Scene, ViewLayer | Sample 528/1024\n",
            "Fra:125 Mem:116.02M (Peak 116.04M) | Time:03:51.33 | Remaining:03:23.29 | Mem:395.54M, Peak:395.54M | Scene, ViewLayer | Sample 544/1024\n",
            "Fra:125 Mem:116.02M (Peak 116.04M) | Time:03:57.32 | Remaining:03:15.87 | Mem:395.54M, Peak:395.54M | Scene, ViewLayer | Sample 560/1024\n",
            "Fra:125 Mem:116.02M (Peak 116.04M) | Time:04:03.23 | Remaining:03:08.46 | Mem:395.54M, Peak:395.54M | Scene, ViewLayer | Sample 576/1024\n",
            "Fra:125 Mem:116.02M (Peak 116.04M) | Time:04:09.06 | Remaining:03:01.07 | Mem:395.54M, Peak:395.54M | Scene, ViewLayer | Sample 592/1024\n",
            "Fra:125 Mem:116.02M (Peak 116.04M) | Time:04:14.79 | Remaining:02:53.70 | Mem:395.54M, Peak:395.54M | Scene, ViewLayer | Sample 608/1024\n",
            "Fra:125 Mem:116.02M (Peak 116.04M) | Time:04:20.44 | Remaining:02:46.35 | Mem:395.54M, Peak:395.54M | Scene, ViewLayer | Sample 624/1024\n",
            "Fra:125 Mem:116.02M (Peak 116.04M) | Time:04:25.97 | Remaining:02:39.02 | Mem:395.54M, Peak:395.54M | Scene, ViewLayer | Sample 640/1024\n",
            "Fra:125 Mem:116.02M (Peak 116.04M) | Time:04:31.40 | Remaining:02:31.73 | Mem:395.54M, Peak:395.54M | Scene, ViewLayer | Sample 656/1024\n",
            "Fra:125 Mem:116.02M (Peak 116.04M) | Time:04:36.74 | Remaining:02:24.47 | Mem:395.54M, Peak:395.54M | Scene, ViewLayer | Sample 672/1024\n",
            "Fra:125 Mem:116.02M (Peak 116.04M) | Time:04:41.98 | Remaining:02:17.25 | Mem:395.54M, Peak:395.54M | Scene, ViewLayer | Sample 688/1024\n",
            "Fra:125 Mem:116.02M (Peak 116.04M) | Time:04:47.11 | Remaining:02:10.08 | Mem:395.54M, Peak:395.54M | Scene, ViewLayer | Sample 704/1024\n",
            "Fra:125 Mem:116.02M (Peak 116.04M) | Time:04:52.14 | Remaining:02:02.95 | Mem:395.54M, Peak:395.54M | Scene, ViewLayer | Sample 720/1024\n",
            "Fra:125 Mem:116.02M (Peak 116.04M) | Time:04:57.06 | Remaining:01:55.88 | Mem:395.54M, Peak:395.54M | Scene, ViewLayer | Sample 736/1024\n",
            "Fra:125 Mem:116.02M (Peak 116.04M) | Time:05:01.89 | Remaining:01:48.85 | Mem:395.54M, Peak:395.54M | Scene, ViewLayer | Sample 752/1024\n",
            "Fra:125 Mem:116.02M (Peak 116.04M) | Time:05:06.60 | Remaining:01:41.89 | Mem:395.54M, Peak:395.54M | Scene, ViewLayer | Sample 768/1024\n",
            "Fra:125 Mem:116.02M (Peak 116.04M) | Time:05:11.22 | Remaining:01:34.98 | Mem:395.54M, Peak:395.54M | Scene, ViewLayer | Sample 784/1024\n",
            "Fra:125 Mem:116.02M (Peak 116.04M) | Time:05:15.73 | Remaining:01:28.14 | Mem:395.54M, Peak:395.54M | Scene, ViewLayer | Sample 800/1024\n",
            "Fra:125 Mem:116.02M (Peak 116.04M) | Time:05:20.14 | Remaining:01:21.36 | Mem:395.54M, Peak:395.54M | Scene, ViewLayer | Sample 816/1024\n",
            "Fra:125 Mem:116.02M (Peak 116.04M) | Time:05:24.46 | Remaining:01:14.66 | Mem:395.54M, Peak:395.54M | Scene, ViewLayer | Sample 832/1024\n",
            "Fra:125 Mem:116.02M (Peak 116.04M) | Time:05:28.68 | Remaining:01:08.02 | Mem:395.54M, Peak:395.54M | Scene, ViewLayer | Sample 848/1024\n",
            "Fra:125 Mem:116.02M (Peak 116.04M) | Time:05:32.78 | Remaining:01:01.45 | Mem:395.54M, Peak:395.54M | Scene, ViewLayer | Sample 864/1024\n",
            "Fra:125 Mem:116.02M (Peak 116.04M) | Time:05:36.79 | Remaining:00:54.96 | Mem:395.54M, Peak:395.54M | Scene, ViewLayer | Sample 880/1024\n",
            "Fra:125 Mem:116.02M (Peak 116.04M) | Time:05:40.70 | Remaining:00:48.53 | Mem:395.54M, Peak:395.54M | Scene, ViewLayer | Sample 896/1024\n",
            "Fra:125 Mem:116.02M (Peak 116.04M) | Time:05:44.52 | Remaining:00:42.19 | Mem:395.54M, Peak:395.54M | Scene, ViewLayer | Sample 912/1024\n",
            "Fra:125 Mem:116.02M (Peak 116.04M) | Time:05:48.24 | Remaining:00:35.92 | Mem:395.54M, Peak:395.54M | Scene, ViewLayer | Sample 928/1024\n",
            "Fra:125 Mem:116.02M (Peak 116.04M) | Time:05:51.87 | Remaining:00:29.74 | Mem:395.54M, Peak:395.54M | Scene, ViewLayer | Sample 944/1024\n",
            "Fra:125 Mem:116.02M (Peak 116.04M) | Time:05:55.40 | Remaining:00:23.63 | Mem:395.54M, Peak:395.54M | Scene, ViewLayer | Sample 960/1024\n",
            "Fra:125 Mem:116.02M (Peak 116.04M) | Time:05:58.85 | Remaining:00:17.60 | Mem:395.54M, Peak:395.54M | Scene, ViewLayer | Sample 976/1024\n",
            "Fra:125 Mem:116.02M (Peak 116.04M) | Time:06:02.20 | Remaining:00:11.65 | Mem:395.54M, Peak:395.54M | Scene, ViewLayer | Sample 992/1024\n",
            "Fra:125 Mem:116.02M (Peak 116.04M) | Time:06:05.46 | Remaining:00:05.78 | Mem:395.54M, Peak:395.54M | Scene, ViewLayer | Sample 1008/1024\n",
            "Fra:125 Mem:130.09M (Peak 158.21M) | Time:06:08.69 | Mem:395.54M, Peak:395.54M | Scene, ViewLayer | Sample 1024/1024\n",
            "Fra:125 Mem:130.09M (Peak 158.21M) | Time:06:08.69 | Mem:395.54M, Peak:395.54M | Scene, ViewLayer | Finished\n",
            "Saved: 'output/blender-0125.png'\n",
            " Time: 06:09.31 (Saving: 00:00.53)\n",
            "\n",
            "\n",
            "Blender quit\n"
          ]
        }
      ],
      "source": [
        "!rm -r output\n",
        "!mkdir output\n",
        "\n",
        "if not drive_output_path.endswith('/'):\n",
        "    drive_output_path += '/'\n",
        "\n",
        "\n",
        "output_path = '/drive/MyDrive/' + drive_output_path + output_name\n",
        "\n",
        "if animation:\n",
        "    if start_frame == end_frame:\n",
        "        !sudo ./$blender_version/blender -b 'render/{blend_file_path}' -P setgpu.py -E CYCLES -o '{output_path}' -noaudio -a\n",
        "    else:\n",
        "        !sudo ./$blender_version/blender -b 'render/{blend_file_path}' -P setgpu.py -E CYCLES -o '{output_path}' -noaudio -s $start_frame -e $end_frame -a\n",
        "else:\n",
        "    !sudo ./$blender_version/blender -b 'render/{blend_file_path}' -P setgpu.py -E CYCLES -o '{output_path}' -noaudio -f $start_frame"
      ]
    },
    {
      "cell_type": "markdown",
      "source": [
        "# ***EXIT SECTION***"
      ],
      "metadata": {
        "id": "P7-VNz9B9ryu"
      }
    },
    {
      "cell_type": "code",
      "execution_count": null,
      "metadata": {
        "colab": {
          "base_uri": "https://localhost:8080/",
          "height": 17
        },
        "id": "IjN_CFwEIB6f",
        "outputId": "e3c24597-2ba4-4a26-ed1c-153c8ea96973"
      },
      "outputs": [
        {
          "output_type": "display_data",
          "data": {
            "application/javascript": [
              "\n",
              "    async function download(id, filename, size) {\n",
              "      if (!google.colab.kernel.accessAllowed) {\n",
              "        return;\n",
              "      }\n",
              "      const div = document.createElement('div');\n",
              "      const label = document.createElement('label');\n",
              "      label.textContent = `Downloading \"${filename}\": `;\n",
              "      div.appendChild(label);\n",
              "      const progress = document.createElement('progress');\n",
              "      progress.max = size;\n",
              "      div.appendChild(progress);\n",
              "      document.body.appendChild(div);\n",
              "\n",
              "      const buffers = [];\n",
              "      let downloaded = 0;\n",
              "\n",
              "      const channel = await google.colab.kernel.comms.open(id);\n",
              "      // Send a message to notify the kernel that we're ready.\n",
              "      channel.send({})\n",
              "\n",
              "      for await (const message of channel.messages) {\n",
              "        // Send a message to notify the kernel that we're ready.\n",
              "        channel.send({})\n",
              "        if (message.buffers) {\n",
              "          for (const buffer of message.buffers) {\n",
              "            buffers.push(buffer);\n",
              "            downloaded += buffer.byteLength;\n",
              "            progress.value = downloaded;\n",
              "          }\n",
              "        }\n",
              "      }\n",
              "      const blob = new Blob(buffers, {type: 'application/binary'});\n",
              "      const a = document.createElement('a');\n",
              "      a.href = window.URL.createObjectURL(blob);\n",
              "      a.download = filename;\n",
              "      div.appendChild(a);\n",
              "      a.click();\n",
              "      div.remove();\n",
              "    }\n",
              "  "
            ],
            "text/plain": [
              "<IPython.core.display.Javascript object>"
            ]
          },
          "metadata": {}
        },
        {
          "output_type": "display_data",
          "data": {
            "application/javascript": [
              "download(\"download_6ff0f212-d7ed-42fa-abc6-1b1f2a650063\", \"blender-01.png\", 3000565)"
            ],
            "text/plain": [
              "<IPython.core.display.Javascript object>"
            ]
          },
          "metadata": {}
        }
      ],
      "source": [
        "path, dirs, files_folder = next(os.walk(\"output\"))\n",
        "output_folder_name = output_name.replace('#', '') + 'render'\n",
        "\n",
        "if download_type == 'gdrive_direct':\n",
        "    pass\n",
        "elif len(files_folder) == 1:\n",
        "    render_img = 'output/' + files_folder[0]\n",
        "    if download_type == 'direct':\n",
        "        files.download('output/' + files_folder[0])\n",
        "    else:\n",
        "        shutil.copy('/content/' + render_img, '/content/gdrive/MyDrive/' + drive_output_path)\n",
        "elif len(files_folder) > 1:\n",
        "    if zip_files:\n",
        "        shutil.make_archive(output_folder_name, 'zip', 'output')\n",
        "    if download_type == 'direct':\n",
        "        files.download(output_folder_name + '.zip')\n",
        "    else:\n",
        "        shutil.copy('/content/' + output_folder_name + \".zip\", '/content/gdrive/MyDrive/' + drive_output_path)\n",
        "elif download_type == 'direct':\n",
        "    for f in files_folder:\n",
        "        files.download('output/{}'.format(f))\n",
        "    # Drive, no zip\n",
        "    else:\n",
        "        for f in files_folder:\n",
        "          shutil.copy(\"/content/output/\" + f, '/content/gdrive/MyDrive/' + drive_output_path + f)\n",
        "else:\n",
        "    raise SystemExit(\"No frames are rendered.\")"
      ]
    },
    {
      "cell_type": "markdown",
      "metadata": {
        "id": "IeNhVz4Uds_7"
      },
      "source": [
        "## Disclaimer\n",
        "The GPU used in Google Colab is specialized for data centres, neural network etc, not rendering 3D scenes. Because the computing power provided are free, the usage limits, idle timeouts and speed of the rendering may varies. [ColabPro](https://colab.research.google.com/signup) is available for those who wanted to have more powerful GPU and longer session for rendering. See the [FAQ](https://research.google.com/colaboratory/faq.html) for more info about this platform. In some cases, it might be faster to use an online Blender renderfarm.\n",
        "\n",
        "## License\n",
        "```\n",
        "MIT License\n",
        "\n",
        "Copyright (c) 2020 syn73\n",
        "\n",
        "Permission is hereby granted, free of charge, to any person obtaining a copy\n",
        "of this software and associated documentation files (the \"Software\"), to deal\n",
        "in the Software without restriction, including without limitation the rights\n",
        "to use, copy, modify, merge, publish, distribute, sublicense, and/or sell\n",
        "copies of the Software, and to permit persons to whom the Software is\n",
        "furnished to do so, subject to the following conditions:\n",
        "\n",
        "The above copyright notice and this permission notice shall be included in all\n",
        "copies or substantial portions of the Software.\n",
        "\n",
        "THE SOFTWARE IS PROVIDED \"AS IS\", WITHOUT WARRANTY OF ANY KIND, EXPRESS OR\n",
        "IMPLIED, INCLUDING BUT NOT LIMITED TO THE WARRANTIES OF MERCHANTABILITY,\n",
        "FITNESS FOR A PARTICULAR PURPOSE AND NONINFRINGEMENT. IN NO EVENT SHALL THE\n",
        "AUTHORS OR COPYRIGHT HOLDERS BE LIABLE FOR ANY CLAIM, DAMAGES OR OTHER\n",
        "LIABILITY, WHETHER IN AN ACTION OF CONTRACT, TORT OR OTHERWISE, ARISING FROM,\n",
        "OUT OF OR IN CONNECTION WITH THE SOFTWARE OR THE USE OR OTHER DEALINGS IN THE\n",
        "SOFTWARE.\n",
        "```"
      ]
    }
  ],
  "metadata": {
    "accelerator": "GPU",
    "colab": {
      "collapsed_sections": [],
      "name": "blender-render.ipynb",
      "provenance": []
    },
    "kernelspec": {
      "display_name": "Python 3",
      "language": "python",
      "name": "python3"
    },
    "language_info": {
      "codemirror_mode": {
        "name": "ipython",
        "version": 3
      },
      "file_extension": ".py",
      "mimetype": "text/x-python",
      "name": "python",
      "nbconvert_exporter": "python",
      "pygments_lexer": "ipython3",
      "version": "3.7.4"
    }
  },
  "nbformat": 4,
  "nbformat_minor": 0
}