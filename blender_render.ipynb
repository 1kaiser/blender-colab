{
  "nbformat": 4,
  "nbformat_minor": 0,
  "metadata": {
    "colab": {
      "name": "blender-render.ipynb",
      "provenance": [],
      "collapsed_sections": [],
      "toc_visible": true
    },
    "kernelspec": {
      "name": "python3",
      "display_name": "Python 3"
    },
    "accelerator": "GPU"
  },
  "cells": [
    {
      "cell_type": "markdown",
      "metadata": {
        "id": "6EYxUEsyGlkw",
        "colab_type": "text"
      },
      "source": [
        "# Setup\n",
        "**Make sure to read the instructions carefully!**\n",
        "\n",
        "Pack your blend file into a **zip archive** and put it within Google Drive. Make sure you **pack all external file** to the blend file or **make all paths** relative in order for resources to work. Note down the path of the blend file in the drive.\n",
        "\n",
        "* `blender_version` : Version of blender used to render the scene. Only supports 2.8x\n",
        "* `blend_file_path` : Path to the blend file after unpacking the zip archive. If blend file is used, this is automatically ignored.\n",
        "___\n",
        "* `upload_type` : Select the type of upload method.\n",
        "* `drive_path_to_blend` : Path to your blend/zip file relative to the root of your Google Drive if `google_drive` is selected.\n",
        "* `url_blend` : Specify the URL to the blend/zip file if `url` is selected.\n",
        "___\n",
        "* `animation` : Specify whether animation or still image is rendered. If **still image** is used, put the frame number in `start_frame`.\n",
        "* `start_frame, end_frame` : Specify the start and end frame for animation. You may put same value such as zero for both input to set the default frame in the blend file.\n",
        "___\n",
        "* `download_type` : Select the type of download method.\n",
        "* `output_name` : Name of the output frames, **do NOT include .blend!** (## for frame number)\n",
        "* `zip_files` : Archive multiple animation frames automatically into a zip file.\n",
        "* `drive_output_path` : Path to your frames/zip file in Google Drive.\n",
        "\n",
        "After you are done, simply go to Runtime > Run All (Ctrl + F9) and upload your files or have Google Drive authorised."
      ]
    },
    {
      "cell_type": "code",
      "metadata": {
        "id": "8dFNjYGTgNjR",
        "colab_type": "code",
        "cellView": "both",
        "colab": {}
      },
      "source": [
        "blender_version = '2.82' #@param ['2.82', '2.81a', '2.80rc3'] {allow-input: false}\n",
        "blend_file_path = 'path/to/file.blend' #@param {type: 'string'}\n",
        "#@markdown ---\n",
        "upload_type = 'direct' #@param ['direct', 'google_drive', 'url'] {allow-input: false}\n",
        "drive_path_to_blend = 'path/to/archive.zip' #@param {type: 'string'}\n",
        "url_blend = 'http://ftp.halifax.rwth-aachen.de/blender/demo/test/classroom.zip' #@param {type: 'string'}\n",
        "#@markdown ---\n",
        "animation = True #@param {type: 'boolean'}\n",
        "start_frame =  1#@param {type: 'integer'}\n",
        "end_frame =  250#@param {type: 'integer'}\n",
        "#@markdown ---\n",
        "download_type = 'direct' #@param ['direct', 'google_drive'] {allow-input: false}\n",
        "output_name = 'blender-##' #@param {type: 'string'}\n",
        "zip_files = True #@param {type: 'boolean'}\n",
        "drive_output_path = 'blender/output' #@param {type: 'string'}"
      ],
      "execution_count": 0,
      "outputs": []
    },
    {
      "cell_type": "code",
      "metadata": {
        "id": "QRzNmiHN8Xr0",
        "colab_type": "code",
        "colab": {}
      },
      "source": [
        "import os\n",
        "import shutil\n",
        "from google.colab import files, drive\n",
        "!mkdir render\n",
        "blend_filename = \"\"\n",
        "\n",
        "if upload_type == 'google_drive' or download_type == 'google_drive':\n",
        "  drive.mount('/drive')\n",
        "\n",
        "if upload_type == 'direct':\n",
        "  uploaded = files.upload()\n",
        "  blend_filename = \"\"\n",
        "  for fn in uploaded.keys():\n",
        "    blend_filename = fn\n",
        "elif upload_type == 'url':\n",
        "  !wget -nc $url_blend\n",
        "  blend_filename = os.path.basename(url_blend)\n",
        "elif upload_type == 'google_drive':\n",
        "  blend_filename = os.path.basename(drive_path_to_blend)\n",
        "  !unzip -o '/drive/My Drive/{drive_path_to_blend}' -d 'render/'"
      ],
      "execution_count": 0,
      "outputs": []
    },
    {
      "cell_type": "code",
      "metadata": {
        "id": "KowqWtLzgSLw",
        "colab_type": "code",
        "colab": {}
      },
      "source": [
        "if blend_filename.lower().endswith('.zip'):\n",
        "  !unzip -o $blend_filename -d 'render/'\n",
        "elif blend_filename.lower().endswith('.blend'):\n",
        "  shutil.copy(blend_filename, 'render/')\n",
        "  blend_file_path = blend_filename\n",
        "else:\n",
        "  raise SystemExit(\"Invalid file extension, only .blend and .zip can be uploaded.\")"
      ],
      "execution_count": 0,
      "outputs": []
    },
    {
      "cell_type": "code",
      "metadata": {
        "id": "GPJ9fmoB6PWM",
        "colab_type": "code",
        "colab": {}
      },
      "source": [
        "blender_url_dict = {'2.80rc3' : \"https://ftp.halifax.rwth-aachen.de/blender/release/Blender2.80/blender-2.80rc3-linux-glibc217-x86_64.tar.bz2\",\n",
        "                    '2.81a'   : \"https://ftp.halifax.rwth-aachen.de/blender/release/Blender2.81/blender-2.81a-linux-glibc217-x86_64.tar.bz2\",\n",
        "                    '2.82'    : \"https://ftp.halifax.rwth-aachen.de/blender/release/Blender2.82/blender-2.82-linux64.tar.xz\"}\n",
        "\n",
        "blender_url = blender_url_dict[blender_version]\n",
        "base_url = os.path.basename(blender_url)\n",
        "\n",
        "!mkdir $blender_version\n",
        "!wget -nc $blender_url\n",
        "!tar -xkf $base_url -C ./$blender_version --strip-components=1"
      ],
      "execution_count": 0,
      "outputs": []
    },
    {
      "cell_type": "code",
      "metadata": {
        "id": "6elYiQrvkUAe",
        "colab_type": "code",
        "colab": {}
      },
      "source": [
        "# Enable GPU rendering\n",
        "data = \"import bpy\\n\"+\\\n",
        "    \"scene = bpy.context.scene\\n\"+\\\n",
        "    \"scene.cycles.device = 'GPU'\\n\"+\\\n",
        "    \"prefs = bpy.context.preferences\\n\"+\\\n",
        "    \"prefs.addons['cycles'].preferences.get_devices()\\n\"+\\\n",
        "    \"cprefs = prefs.addons['cycles'].preferences\\n\"+\\\n",
        "    \"# Attempt to set GPU device types if available\\n\"+\\\n",
        "    \"for compute_device_type in ('CUDA', 'OPENCL', 'NONE'):\\n\"+\\\n",
        "    \"    try:\\n\"+\\\n",
        "    \"        cprefs.compute_device_type = compute_device_type\\n\"+\\\n",
        "    \"        print('Device found:',compute_device_type)\\n\"+\\\n",
        "    \"        break\\n\"+\\\n",
        "    \"    except TypeError:\\n\"+\\\n",
        "    \"        pass\\n\"\n",
        "with open('setgpu.py', 'w') as f:\n",
        "    f.write(data)"
      ],
      "execution_count": 0,
      "outputs": []
    },
    {
      "cell_type": "markdown",
      "metadata": {
        "id": "RPiQkHVbCDu2",
        "colab_type": "text"
      },
      "source": [
        "Note that EEVEE rendering are unavailable for virtual machine.\n",
        "For more information please refer to [Blender CLI Wiki](https://docs.blender.org/manual/en/latest/advanced/command_line/arguments.html).\n"
      ]
    },
    {
      "cell_type": "code",
      "metadata": {
        "id": "Fpk2w3yM8XqQ",
        "colab_type": "code",
        "colab": {}
      },
      "source": [
        "!rm -r output\n",
        "!mkdir output\n",
        "\n",
        "if animation:\n",
        "  if start_frame == end_frame:\n",
        "    !sudo ./$blender_version/blender -b 'render/{blend_file_path}' -P setgpu.py -E CYCLES -o 'output/{output_name}' -setaudio sdl -a\n",
        "  else:\n",
        "    !sudo ./$blender_version/blender -b 'render/{blend_file_path}' -P setgpu.py -E CYCLES -o 'output/{output_name}' -setaudio sdl -s $start_frame -e $end_frame -a\n",
        "else:\n",
        "  !sudo ./$blender_version/blender -b 'render/{blend_file_path}' -P setgpu.py -E CYCLES -o 'output/{output_name}' -setaudio sdl -f $start_frame"
      ],
      "execution_count": 0,
      "outputs": []
    },
    {
      "cell_type": "code",
      "metadata": {
        "id": "IjN_CFwEIB6f",
        "colab_type": "code",
        "colab": {}
      },
      "source": [
        "path, dirs, files_folder = next(os.walk(\"output\"))\n",
        "output_folder_name = output_name.replace('#', '') + 'render'\n",
        "\n",
        "if not drive_output_path.lower().endswith('/'):\n",
        "  drive_output_path += '/'\n",
        "\n",
        "if len(files_folder) == 1:\n",
        "  render_img = 'output/' + files_folder[0]\n",
        "  if download_type == 'direct':\n",
        "    files.download('output/' + files_folder[0])\n",
        "  else:\n",
        "    shutil.copy('/content/' + render_img, '/drive/My Drive/' + drive_output_path)\n",
        "elif len(files_folder) > 1:\n",
        "  if zip_files:\n",
        "    shutil.make_archive(output_folder_name, 'zip', 'output')\n",
        "    if download_type == 'direct':\n",
        "      files.download(output_folder_name + '.zip')\n",
        "    else:\n",
        "      shutil.copy('/content/' + output_folder_name + \".zip\", '/drive/My Drive/' + drive_output_path)\n",
        "  elif download_type == 'direct':\n",
        "    for f in files_folder:\n",
        "      files.download('output/{}'.format(f))\n",
        "  # Drive, no zip\n",
        "  else:\n",
        "    for f in files_folder:\n",
        "      shutil.copy(\"/content/output/\" + f, '/drive/My Drive/' + drive_output_path + f)\n",
        "else:\n",
        "  raise SystemExit(\"No frames are rendered.\")"
      ],
      "execution_count": 0,
      "outputs": []
    },
    {
      "cell_type": "markdown",
      "metadata": {
        "id": "IeNhVz4Uds_7",
        "colab_type": "text"
      },
      "source": [
        "## Disclaimer\n",
        "The GPU used in Google Colab is specialized for data centres, neural network etc, not rendering 3D scenes. Because the computing power provided are free, the usage limits and speed of the rendering may varies. [ColabPro](https://colab.research.google.com/signup) is available for those who wanted to have more powerful GPU and longer session for rendering. See the [FAQ](https://research.google.com/colaboratory/faq.html) for more info about this platform. In some cases, it might be faster to use a renderfarm such as [Sheepit](https://www.sheepit-renderfarm.com/) (free) and [ConciergeRender](https://www.conciergerender.com/) (trial) which have parallel rendering.\n",
        "\n",
        "## License\n",
        "```\n",
        "MIT License\n",
        "\n",
        "Copyright (c) 2020 syn73\n",
        "\n",
        "Permission is hereby granted, free of charge, to any person obtaining a copy\n",
        "of this software and associated documentation files (the \"Software\"), to deal\n",
        "in the Software without restriction, including without limitation the rights\n",
        "to use, copy, modify, merge, publish, distribute, sublicense, and/or sell\n",
        "copies of the Software, and to permit persons to whom the Software is\n",
        "furnished to do so, subject to the following conditions:\n",
        "\n",
        "The above copyright notice and this permission notice shall be included in all\n",
        "copies or substantial portions of the Software.\n",
        "\n",
        "THE SOFTWARE IS PROVIDED \"AS IS\", WITHOUT WARRANTY OF ANY KIND, EXPRESS OR\n",
        "IMPLIED, INCLUDING BUT NOT LIMITED TO THE WARRANTIES OF MERCHANTABILITY,\n",
        "FITNESS FOR A PARTICULAR PURPOSE AND NONINFRINGEMENT. IN NO EVENT SHALL THE\n",
        "AUTHORS OR COPYRIGHT HOLDERS BE LIABLE FOR ANY CLAIM, DAMAGES OR OTHER\n",
        "LIABILITY, WHETHER IN AN ACTION OF CONTRACT, TORT OR OTHERWISE, ARISING FROM,\n",
        "OUT OF OR IN CONNECTION WITH THE SOFTWARE OR THE USE OR OTHER DEALINGS IN THE\n",
        "SOFTWARE.\n",
        "```"
      ]
    }
  ]
}
